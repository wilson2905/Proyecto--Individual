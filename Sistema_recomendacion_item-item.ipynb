{
 "cells": [
  {
   "cell_type": "code",
   "execution_count": 10,
   "metadata": {},
   "outputs": [],
   "source": [
    "import pandas as pd\n",
    "from sklearn.metrics.pairwise import cosine_similarity\n",
    "from sklearn.preprocessing import MinMaxScaler\n",
    "from sklearn.model_selection import train_test_split\n"
   ]
  },
  {
   "cell_type": "code",
   "execution_count": 11,
   "metadata": {},
   "outputs": [],
   "source": [
    "df=pd.read_csv(r\"C:\\Users\\Usuario\\Desktop\\ProyectoIndividual\\df_reducido_final.csv\", encoding=\"utf-8\")"
   ]
  },
  {
   "cell_type": "code",
   "execution_count": 4,
   "metadata": {},
   "outputs": [
    {
     "data": {
      "text/plain": [
       "0                                Space Pirates and Zombies\n",
       "1        Magic: The Gathering - Duels of the Planeswalk...\n",
       "2                                               F.E.A.R. 3\n",
       "3                                      Grimoire: Manastorm\n",
       "4                                             Block N Load\n",
       "                               ...                        \n",
       "49995                                                 Reus\n",
       "49996                                            Kung Fury\n",
       "49997                     Serious Sam Classics: Revolution\n",
       "49998                                       Wolfenstein 3D\n",
       "49999                                 Euro Truck Simulator\n",
       "Name: item_name, Length: 50000, dtype: object"
      ]
     },
     "execution_count": 4,
     "metadata": {},
     "output_type": "execute_result"
    }
   ],
   "source": [
    "df[\"item_name\"]"
   ]
  },
  {
   "cell_type": "code",
   "execution_count": 5,
   "metadata": {},
   "outputs": [],
   "source": [
    "\n",
    "\n",
    "# Seleccionar las columnas relevantes para calcular la similitud\n",
    "columnas_relevantes = ['item_name', 'Action', 'Casual', 'Indie', 'Simulation', 'Strategy', 'Free to Play', 'RPG', 'Sports', 'Adventure', 'Racing', 'Early Access', 'Massively Multiplayer', 'Animation &amp; Modeling', 'Video Production', 'Utilities', 'Web Publishing', 'Education', 'Software Training', 'Design &amp; Illustration', 'Audio Production', 'Photo Editing', 'Accounting']\n",
    "\n",
    "# Seleccionar los datos relevantes\n",
    "datos_relevantes = df[columnas_relevantes]\n",
    "\n",
    "# Excluir la columna de nombres de juegos para el cálculo de similitud\n",
    "caracteristicas_juegos = datos_relevantes.drop('item_name', axis=1)\n",
    "\n",
    "# Normalizar los datos si es necesario\n",
    "scaler = MinMaxScaler()\n",
    "datos_normalizados = scaler.fit_transform(caracteristicas_juegos)\n",
    "\n",
    "# Calcular la similitud del coseno entre juegos basado en las características\n",
    "similarity_matrix = cosine_similarity(datos_normalizados)\n",
    "\n",
    "\n"
   ]
  },
  {
   "cell_type": "code",
   "execution_count": 8,
   "metadata": {},
   "outputs": [],
   "source": [
    "# Solicitar al usuario el nombre de un juego para obtener recomendaciones\n",
    "nombre_juego_seleccionado = input(\"Ingresa el nombre del juego para obtener recomendaciones: \")\n"
   ]
  },
  {
   "cell_type": "code",
   "execution_count": 9,
   "metadata": {},
   "outputs": [
    {
     "name": "stdout",
     "output_type": "stream",
     "text": [
      "\n",
      "Juegos recomendados para 'Euro Truck Simulator':\n",
      "1. Juego: Welcome to the Game- Similaridad: 0.9999999999999998\n",
      "2. Juego: Garry's Mod- Similaridad: 0.9999999999999998\n",
      "3. Juego: Garry's Mod- Similaridad: 0.9999999999999998\n",
      "4. Juego: SpaceChem- Similaridad: 0.9999999999999998\n",
      "5. Juego: Euro Truck Simulator- Similaridad: 0.9999999999999998\n"
     ]
    }
   ],
   "source": [
    "# Encontrar el índice del juego seleccionado\n",
    "try:\n",
    "    juego_seleccionado_idx = df[df['item_name'] == nombre_juego_seleccionado].index[0]\n",
    "except IndexError:\n",
    "    print(\"El juego ingresado no se encontró en la base de datos.\")\n",
    "    exit()\n",
    "\n",
    "# Obtener las puntuaciones de similitud para el juego seleccionado\n",
    "similarity_scores = similarity_matrix[juego_seleccionado_idx]\n",
    "\n",
    "# Obtener los índices de los juegos más similares (excluyendo el juego seleccionado)\n",
    "juegos_recomendados = similarity_scores.argsort()[-2:-7:-1]  # 5 juegos más similares\n",
    "\n",
    "# Mostrar los nombres de los juegos recomendados junto con su similitud\n",
    "print(f\"\\nJuegos recomendados para '{nombre_juego_seleccionado}':\")\n",
    "for i, idx in enumerate(juegos_recomendados, 1):\n",
    "    juego_recomendado = df.iloc[idx]['item_name']\n",
    "    similitud = similarity_scores[idx]\n",
    "    print(f\"{i}. Juego: {juego_recomendado}- Similaridad: {similitud}\") \n"
   ]
  },
  {
   "cell_type": "code",
   "execution_count": null,
   "metadata": {},
   "outputs": [],
   "source": [
    "from fastapi import FastAPI\n",
    "\n",
    "app = FastAPI()\n",
    "\n",
    "# Definir la función de recomendación\n",
    "def recomendacion_juego(id_producto):\n",
    "    # Aquí va la lógica para obtener las recomendaciones basadas en el ID del producto\n",
    "    # Utiliza el modelo previamente entrenado para calcular las recomendaciones\n",
    "    # Devuelve una lista de 5 juegos similares al ingresado\n",
    "    # El proceso sería similar a lo que se mostró en ejemplos anteriores\n",
    "\n",
    "    # Supongamos que 'juegos_recomendados' es una lista con los nombres de los juegos recomendados\n",
    "    juegos_recomendados = [\"Juego1\", \"Juego2\", \"Juego3\", \"Juego4\", \"Juego5\"]\n",
    "    return juegos_recomendados\n",
    "\n",
    "# Ruta para manejar las solicitudes de recomendación de juegos\n",
    "@app.get(\"/recomendar-juego/\")\n",
    "async def recomendacion_api(id: str):\n",
    "    # Llamar a la función de recomendación con el ID del juego\n",
    "    recomendaciones = recomendacion_juego(id)\n",
    "    \n",
    "    # Devolver las recomendaciones como respuesta JSON\n",
    "    return {\"juegos_recomendados\": recomendaciones}\n"
   ]
  }
 ],
 "metadata": {
  "kernelspec": {
   "display_name": "Python 3",
   "language": "python",
   "name": "python3"
  },
  "language_info": {
   "codemirror_mode": {
    "name": "ipython",
    "version": 3
   },
   "file_extension": ".py",
   "mimetype": "text/x-python",
   "name": "python",
   "nbconvert_exporter": "python",
   "pygments_lexer": "ipython3",
   "version": "3.11.7"
  }
 },
 "nbformat": 4,
 "nbformat_minor": 2
}
