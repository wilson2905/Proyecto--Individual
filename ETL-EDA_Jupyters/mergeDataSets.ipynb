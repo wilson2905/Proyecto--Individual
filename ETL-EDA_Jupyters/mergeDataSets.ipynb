{
 "cells": [
  {
   "cell_type": "markdown",
   "metadata": {},
   "source": [
    "Se cargan librerias a utilizar"
   ]
  },
  {
   "cell_type": "code",
   "execution_count": 1,
   "metadata": {},
   "outputs": [],
   "source": [
    "import pandas as pd\n",
    "import numpy as np\n",
    "import os"
   ]
  },
  {
   "cell_type": "markdown",
   "metadata": {},
   "source": [
    "Se crean los dataframes a partir de los archivos csv optimizados"
   ]
  },
  {
   "cell_type": "code",
   "execution_count": 6,
   "metadata": {},
   "outputs": [],
   "source": [
    "df_reviews=pd.read_csv(r\"C:\\Users\\Usuario\\Desktop\\ProyectoIndividual\\reviews_clean.csv\",encoding=\"utf-8\")\n",
    "df_games=pd.read_csv(r\"C:\\Users\\Usuario\\Desktop\\ProyectoIndividual\\steam_games_clean.csv\", encoding=\"utf-8\")\n",
    "df_items=pd.read_csv(r\"C:\\Users\\Usuario\\Desktop\\ProyectoIndividual\\user_items_clean.csv\", encoding=\"utf-8\")\n"
   ]
  },
  {
   "cell_type": "code",
   "execution_count": 4,
   "metadata": {},
   "outputs": [
    {
     "data": {
      "text/html": [
       "<div>\n",
       "<style scoped>\n",
       "    .dataframe tbody tr th:only-of-type {\n",
       "        vertical-align: middle;\n",
       "    }\n",
       "\n",
       "    .dataframe tbody tr th {\n",
       "        vertical-align: top;\n",
       "    }\n",
       "\n",
       "    .dataframe thead th {\n",
       "        text-align: right;\n",
       "    }\n",
       "</style>\n",
       "<table border=\"1\" class=\"dataframe\">\n",
       "  <thead>\n",
       "    <tr style=\"text-align: right;\">\n",
       "      <th></th>\n",
       "      <th>item_id</th>\n",
       "      <th>recommend</th>\n",
       "      <th>user_id</th>\n",
       "      <th>sentiment_score</th>\n",
       "      <th>posted_year</th>\n",
       "    </tr>\n",
       "  </thead>\n",
       "  <tbody>\n",
       "    <tr>\n",
       "      <th>0</th>\n",
       "      <td>1250</td>\n",
       "      <td>True</td>\n",
       "      <td>76561197970982479</td>\n",
       "      <td>2</td>\n",
       "      <td>2011</td>\n",
       "    </tr>\n",
       "  </tbody>\n",
       "</table>\n",
       "</div>"
      ],
      "text/plain": [
       "   item_id  recommend            user_id  sentiment_score  posted_year\n",
       "0     1250       True  76561197970982479                2         2011"
      ]
     },
     "execution_count": 4,
     "metadata": {},
     "output_type": "execute_result"
    }
   ],
   "source": [
    "df_reviews.head(1)"
   ]
  },
  {
   "cell_type": "markdown",
   "metadata": {},
   "source": [
    "Se modifica la estructura de los datos y se renombran columnas"
   ]
  },
  {
   "cell_type": "code",
   "execution_count": 7,
   "metadata": {},
   "outputs": [
    {
     "data": {
      "text/html": [
       "<div>\n",
       "<style scoped>\n",
       "    .dataframe tbody tr th:only-of-type {\n",
       "        vertical-align: middle;\n",
       "    }\n",
       "\n",
       "    .dataframe tbody tr th {\n",
       "        vertical-align: top;\n",
       "    }\n",
       "\n",
       "    .dataframe thead th {\n",
       "        text-align: right;\n",
       "    }\n",
       "</style>\n",
       "<table border=\"1\" class=\"dataframe\">\n",
       "  <thead>\n",
       "    <tr style=\"text-align: right;\">\n",
       "      <th></th>\n",
       "      <th>item_name</th>\n",
       "      <th>item_id</th>\n",
       "      <th>developer</th>\n",
       "      <th>Action</th>\n",
       "      <th>Casual</th>\n",
       "      <th>Indie</th>\n",
       "      <th>Simulation</th>\n",
       "      <th>Strategy</th>\n",
       "      <th>Free to Play</th>\n",
       "      <th>RPG</th>\n",
       "      <th>...</th>\n",
       "      <th>Animation &amp;amp; Modeling</th>\n",
       "      <th>Video Production</th>\n",
       "      <th>Utilities</th>\n",
       "      <th>Web Publishing</th>\n",
       "      <th>Education</th>\n",
       "      <th>Software Training</th>\n",
       "      <th>Design &amp;amp; Illustration</th>\n",
       "      <th>Audio Production</th>\n",
       "      <th>Photo Editing</th>\n",
       "      <th>Accounting</th>\n",
       "    </tr>\n",
       "  </thead>\n",
       "  <tbody>\n",
       "    <tr>\n",
       "      <th>0</th>\n",
       "      <td>Lost Summoner Kitty</td>\n",
       "      <td>761140</td>\n",
       "      <td>Kotoshiro</td>\n",
       "      <td>1</td>\n",
       "      <td>1</td>\n",
       "      <td>1</td>\n",
       "      <td>1</td>\n",
       "      <td>1</td>\n",
       "      <td>0</td>\n",
       "      <td>0</td>\n",
       "      <td>...</td>\n",
       "      <td>0</td>\n",
       "      <td>0</td>\n",
       "      <td>0</td>\n",
       "      <td>0</td>\n",
       "      <td>0</td>\n",
       "      <td>0</td>\n",
       "      <td>0</td>\n",
       "      <td>0</td>\n",
       "      <td>0</td>\n",
       "      <td>0</td>\n",
       "    </tr>\n",
       "    <tr>\n",
       "      <th>1</th>\n",
       "      <td>Ironbound</td>\n",
       "      <td>643980</td>\n",
       "      <td>Secret Level SRL</td>\n",
       "      <td>0</td>\n",
       "      <td>0</td>\n",
       "      <td>1</td>\n",
       "      <td>0</td>\n",
       "      <td>1</td>\n",
       "      <td>1</td>\n",
       "      <td>1</td>\n",
       "      <td>...</td>\n",
       "      <td>0</td>\n",
       "      <td>0</td>\n",
       "      <td>0</td>\n",
       "      <td>0</td>\n",
       "      <td>0</td>\n",
       "      <td>0</td>\n",
       "      <td>0</td>\n",
       "      <td>0</td>\n",
       "      <td>0</td>\n",
       "      <td>0</td>\n",
       "    </tr>\n",
       "  </tbody>\n",
       "</table>\n",
       "<p>2 rows × 25 columns</p>\n",
       "</div>"
      ],
      "text/plain": [
       "             item_name  item_id         developer  Action  Casual  Indie  \\\n",
       "0  Lost Summoner Kitty   761140         Kotoshiro       1       1      1   \n",
       "1            Ironbound   643980  Secret Level SRL       0       0      1   \n",
       "\n",
       "   Simulation  Strategy  Free to Play  RPG  ...  Animation &amp; Modeling  \\\n",
       "0           1         1             0    0  ...                         0   \n",
       "1           0         1             1    1  ...                         0   \n",
       "\n",
       "   Video Production  Utilities  Web Publishing  Education  Software Training  \\\n",
       "0                 0          0               0          0                  0   \n",
       "1                 0          0               0          0                  0   \n",
       "\n",
       "   Design &amp; Illustration  Audio Production  Photo Editing  Accounting  \n",
       "0                          0                 0              0           0  \n",
       "1                          0                 0              0           0  \n",
       "\n",
       "[2 rows x 25 columns]"
      ]
     },
     "execution_count": 7,
     "metadata": {},
     "output_type": "execute_result"
    }
   ],
   "source": [
    "df_games.rename(columns={\"id\":\"item_id\", \"title\":\"item_name\"}, inplace=True)\n",
    "df_games[\"item_id\"]=df_games[\"item_id\"].astype(\"Int64\")\n",
    "\n",
    "df_games.head(2)"
   ]
  },
  {
   "cell_type": "markdown",
   "metadata": {},
   "source": [
    "Union de los dataframe \"df_games\" y \"df_items\""
   ]
  },
  {
   "cell_type": "code",
   "execution_count": 8,
   "metadata": {},
   "outputs": [],
   "source": [
    "#union df_games con df_items con \"item_name\"\n",
    "df_games_items=pd.merge(df_games,df_items, on=\"item_name\", how=\"inner\")"
   ]
  },
  {
   "cell_type": "code",
   "execution_count": 9,
   "metadata": {},
   "outputs": [
    {
     "data": {
      "text/plain": [
       "(3146114, 29)"
      ]
     },
     "execution_count": 9,
     "metadata": {},
     "output_type": "execute_result"
    }
   ],
   "source": [
    "df_games_items.shape"
   ]
  },
  {
   "cell_type": "code",
   "execution_count": 10,
   "metadata": {},
   "outputs": [],
   "source": [
    "columnas_eliminar=[\"item_id_x\", \"playtime_2weeks\"]\n",
    "df_games_items.drop(columnas_eliminar, axis=1, inplace=True)\n",
    "df_games_items.rename(columns={\"item_id_y\":\"item_id\"}, inplace=True)"
   ]
  },
  {
   "cell_type": "code",
   "execution_count": 11,
   "metadata": {},
   "outputs": [],
   "source": [
    "df_games_items=df_games_items[df_games_items[\"playtime_forever\"]!=0]"
   ]
  },
  {
   "cell_type": "code",
   "execution_count": 12,
   "metadata": {},
   "outputs": [
    {
     "data": {
      "text/plain": [
       "(2143966, 27)"
      ]
     },
     "execution_count": 12,
     "metadata": {},
     "output_type": "execute_result"
    }
   ],
   "source": [
    "df_games_items.shape"
   ]
  },
  {
   "cell_type": "code",
   "execution_count": 13,
   "metadata": {},
   "outputs": [],
   "source": [
    "columnas_ordenadas=[\"item_id\", \"item_name\", \"developer\",\"user_id\", \"playtime_forever\", \"Action\", \"Casual\", \"Indie\",\n",
    "                    \"Simulation\", \"Strategy\", \"Free to Play\", \"RPG\", \"Sports\", \"Adventure\", \"Racing\", \"Early Access\",\n",
    "                    \"Massively Multiplayer\", \"Animation &amp; Modeling\", \"Video Production\", \"Utilities\", \"Web Publishing\",\n",
    "                    \"Education\", \"Software Training\", \"Design &amp; Illustration\", \"Audio Production\", \"Photo Editing\", \n",
    "                    \"Accounting\"]\n",
    "df_games_items=df_games_items[columnas_ordenadas]"
   ]
  },
  {
   "cell_type": "code",
   "execution_count": null,
   "metadata": {},
   "outputs": [],
   "source": [
    "df_games_items.reset_index(drop=True)"
   ]
  },
  {
   "cell_type": "code",
   "execution_count": 18,
   "metadata": {},
   "outputs": [
    {
     "data": {
      "text/html": [
       "<div>\n",
       "<style scoped>\n",
       "    .dataframe tbody tr th:only-of-type {\n",
       "        vertical-align: middle;\n",
       "    }\n",
       "\n",
       "    .dataframe tbody tr th {\n",
       "        vertical-align: top;\n",
       "    }\n",
       "\n",
       "    .dataframe thead th {\n",
       "        text-align: right;\n",
       "    }\n",
       "</style>\n",
       "<table border=\"1\" class=\"dataframe\">\n",
       "  <thead>\n",
       "    <tr style=\"text-align: right;\">\n",
       "      <th></th>\n",
       "      <th>item_id</th>\n",
       "      <th>item_name</th>\n",
       "      <th>developer</th>\n",
       "      <th>user_id</th>\n",
       "      <th>playtime_forever</th>\n",
       "      <th>Action</th>\n",
       "      <th>Casual</th>\n",
       "      <th>Indie</th>\n",
       "      <th>Simulation</th>\n",
       "      <th>Strategy</th>\n",
       "      <th>...</th>\n",
       "      <th>Animation &amp;amp; Modeling</th>\n",
       "      <th>Video Production</th>\n",
       "      <th>Utilities</th>\n",
       "      <th>Web Publishing</th>\n",
       "      <th>Education</th>\n",
       "      <th>Software Training</th>\n",
       "      <th>Design &amp;amp; Illustration</th>\n",
       "      <th>Audio Production</th>\n",
       "      <th>Photo Editing</th>\n",
       "      <th>Accounting</th>\n",
       "    </tr>\n",
       "  </thead>\n",
       "  <tbody>\n",
       "    <tr>\n",
       "      <th>0</th>\n",
       "      <td>282010</td>\n",
       "      <td>Carmageddon Max Pack</td>\n",
       "      <td>Stainless Games Ltd</td>\n",
       "      <td>UTNerd24</td>\n",
       "      <td>5</td>\n",
       "      <td>1</td>\n",
       "      <td>0</td>\n",
       "      <td>1</td>\n",
       "      <td>0</td>\n",
       "      <td>0</td>\n",
       "      <td>...</td>\n",
       "      <td>0</td>\n",
       "      <td>0</td>\n",
       "      <td>0</td>\n",
       "      <td>0</td>\n",
       "      <td>0</td>\n",
       "      <td>0</td>\n",
       "      <td>0</td>\n",
       "      <td>0</td>\n",
       "      <td>0</td>\n",
       "      <td>0</td>\n",
       "    </tr>\n",
       "    <tr>\n",
       "      <th>4</th>\n",
       "      <td>282010</td>\n",
       "      <td>Carmageddon Max Pack</td>\n",
       "      <td>Stainless Games Ltd</td>\n",
       "      <td>saint556</td>\n",
       "      <td>13</td>\n",
       "      <td>1</td>\n",
       "      <td>0</td>\n",
       "      <td>1</td>\n",
       "      <td>0</td>\n",
       "      <td>0</td>\n",
       "      <td>...</td>\n",
       "      <td>0</td>\n",
       "      <td>0</td>\n",
       "      <td>0</td>\n",
       "      <td>0</td>\n",
       "      <td>0</td>\n",
       "      <td>0</td>\n",
       "      <td>0</td>\n",
       "      <td>0</td>\n",
       "      <td>0</td>\n",
       "      <td>0</td>\n",
       "    </tr>\n",
       "    <tr>\n",
       "      <th>5</th>\n",
       "      <td>282010</td>\n",
       "      <td>Carmageddon Max Pack</td>\n",
       "      <td>Stainless Games Ltd</td>\n",
       "      <td>chidvd</td>\n",
       "      <td>110</td>\n",
       "      <td>1</td>\n",
       "      <td>0</td>\n",
       "      <td>1</td>\n",
       "      <td>0</td>\n",
       "      <td>0</td>\n",
       "      <td>...</td>\n",
       "      <td>0</td>\n",
       "      <td>0</td>\n",
       "      <td>0</td>\n",
       "      <td>0</td>\n",
       "      <td>0</td>\n",
       "      <td>0</td>\n",
       "      <td>0</td>\n",
       "      <td>0</td>\n",
       "      <td>0</td>\n",
       "      <td>0</td>\n",
       "    </tr>\n",
       "    <tr>\n",
       "      <th>6</th>\n",
       "      <td>282010</td>\n",
       "      <td>Carmageddon Max Pack</td>\n",
       "      <td>Stainless Games Ltd</td>\n",
       "      <td>aerpub</td>\n",
       "      <td>13</td>\n",
       "      <td>1</td>\n",
       "      <td>0</td>\n",
       "      <td>1</td>\n",
       "      <td>0</td>\n",
       "      <td>0</td>\n",
       "      <td>...</td>\n",
       "      <td>0</td>\n",
       "      <td>0</td>\n",
       "      <td>0</td>\n",
       "      <td>0</td>\n",
       "      <td>0</td>\n",
       "      <td>0</td>\n",
       "      <td>0</td>\n",
       "      <td>0</td>\n",
       "      <td>0</td>\n",
       "      <td>0</td>\n",
       "    </tr>\n",
       "    <tr>\n",
       "      <th>7</th>\n",
       "      <td>282010</td>\n",
       "      <td>Carmageddon Max Pack</td>\n",
       "      <td>Stainless Games Ltd</td>\n",
       "      <td>lucifer666678</td>\n",
       "      <td>8</td>\n",
       "      <td>1</td>\n",
       "      <td>0</td>\n",
       "      <td>1</td>\n",
       "      <td>0</td>\n",
       "      <td>0</td>\n",
       "      <td>...</td>\n",
       "      <td>0</td>\n",
       "      <td>0</td>\n",
       "      <td>0</td>\n",
       "      <td>0</td>\n",
       "      <td>0</td>\n",
       "      <td>0</td>\n",
       "      <td>0</td>\n",
       "      <td>0</td>\n",
       "      <td>0</td>\n",
       "      <td>0</td>\n",
       "    </tr>\n",
       "    <tr>\n",
       "      <th>9</th>\n",
       "      <td>282010</td>\n",
       "      <td>Carmageddon Max Pack</td>\n",
       "      <td>Stainless Games Ltd</td>\n",
       "      <td>FilthyDeath</td>\n",
       "      <td>12</td>\n",
       "      <td>1</td>\n",
       "      <td>0</td>\n",
       "      <td>1</td>\n",
       "      <td>0</td>\n",
       "      <td>0</td>\n",
       "      <td>...</td>\n",
       "      <td>0</td>\n",
       "      <td>0</td>\n",
       "      <td>0</td>\n",
       "      <td>0</td>\n",
       "      <td>0</td>\n",
       "      <td>0</td>\n",
       "      <td>0</td>\n",
       "      <td>0</td>\n",
       "      <td>0</td>\n",
       "      <td>0</td>\n",
       "    </tr>\n",
       "    <tr>\n",
       "      <th>11</th>\n",
       "      <td>282010</td>\n",
       "      <td>Carmageddon Max Pack</td>\n",
       "      <td>Stainless Games Ltd</td>\n",
       "      <td>76561198018144075</td>\n",
       "      <td>49</td>\n",
       "      <td>1</td>\n",
       "      <td>0</td>\n",
       "      <td>1</td>\n",
       "      <td>0</td>\n",
       "      <td>0</td>\n",
       "      <td>...</td>\n",
       "      <td>0</td>\n",
       "      <td>0</td>\n",
       "      <td>0</td>\n",
       "      <td>0</td>\n",
       "      <td>0</td>\n",
       "      <td>0</td>\n",
       "      <td>0</td>\n",
       "      <td>0</td>\n",
       "      <td>0</td>\n",
       "      <td>0</td>\n",
       "    </tr>\n",
       "    <tr>\n",
       "      <th>12</th>\n",
       "      <td>282010</td>\n",
       "      <td>Carmageddon Max Pack</td>\n",
       "      <td>Stainless Games Ltd</td>\n",
       "      <td>666NeCrO</td>\n",
       "      <td>261</td>\n",
       "      <td>1</td>\n",
       "      <td>0</td>\n",
       "      <td>1</td>\n",
       "      <td>0</td>\n",
       "      <td>0</td>\n",
       "      <td>...</td>\n",
       "      <td>0</td>\n",
       "      <td>0</td>\n",
       "      <td>0</td>\n",
       "      <td>0</td>\n",
       "      <td>0</td>\n",
       "      <td>0</td>\n",
       "      <td>0</td>\n",
       "      <td>0</td>\n",
       "      <td>0</td>\n",
       "      <td>0</td>\n",
       "    </tr>\n",
       "    <tr>\n",
       "      <th>13</th>\n",
       "      <td>282010</td>\n",
       "      <td>Carmageddon Max Pack</td>\n",
       "      <td>Stainless Games Ltd</td>\n",
       "      <td>76561198001688490</td>\n",
       "      <td>2</td>\n",
       "      <td>1</td>\n",
       "      <td>0</td>\n",
       "      <td>1</td>\n",
       "      <td>0</td>\n",
       "      <td>0</td>\n",
       "      <td>...</td>\n",
       "      <td>0</td>\n",
       "      <td>0</td>\n",
       "      <td>0</td>\n",
       "      <td>0</td>\n",
       "      <td>0</td>\n",
       "      <td>0</td>\n",
       "      <td>0</td>\n",
       "      <td>0</td>\n",
       "      <td>0</td>\n",
       "      <td>0</td>\n",
       "    </tr>\n",
       "    <tr>\n",
       "      <th>14</th>\n",
       "      <td>282010</td>\n",
       "      <td>Carmageddon Max Pack</td>\n",
       "      <td>Stainless Games Ltd</td>\n",
       "      <td>76561197974288321</td>\n",
       "      <td>14</td>\n",
       "      <td>1</td>\n",
       "      <td>0</td>\n",
       "      <td>1</td>\n",
       "      <td>0</td>\n",
       "      <td>0</td>\n",
       "      <td>...</td>\n",
       "      <td>0</td>\n",
       "      <td>0</td>\n",
       "      <td>0</td>\n",
       "      <td>0</td>\n",
       "      <td>0</td>\n",
       "      <td>0</td>\n",
       "      <td>0</td>\n",
       "      <td>0</td>\n",
       "      <td>0</td>\n",
       "      <td>0</td>\n",
       "    </tr>\n",
       "  </tbody>\n",
       "</table>\n",
       "<p>10 rows × 27 columns</p>\n",
       "</div>"
      ],
      "text/plain": [
       "    item_id             item_name            developer            user_id  \\\n",
       "0    282010  Carmageddon Max Pack  Stainless Games Ltd           UTNerd24   \n",
       "4    282010  Carmageddon Max Pack  Stainless Games Ltd           saint556   \n",
       "5    282010  Carmageddon Max Pack  Stainless Games Ltd             chidvd   \n",
       "6    282010  Carmageddon Max Pack  Stainless Games Ltd             aerpub   \n",
       "7    282010  Carmageddon Max Pack  Stainless Games Ltd      lucifer666678   \n",
       "9    282010  Carmageddon Max Pack  Stainless Games Ltd        FilthyDeath   \n",
       "11   282010  Carmageddon Max Pack  Stainless Games Ltd  76561198018144075   \n",
       "12   282010  Carmageddon Max Pack  Stainless Games Ltd           666NeCrO   \n",
       "13   282010  Carmageddon Max Pack  Stainless Games Ltd  76561198001688490   \n",
       "14   282010  Carmageddon Max Pack  Stainless Games Ltd  76561197974288321   \n",
       "\n",
       "    playtime_forever  Action  Casual  Indie  Simulation  Strategy  ...  \\\n",
       "0                  5       1       0      1           0         0  ...   \n",
       "4                 13       1       0      1           0         0  ...   \n",
       "5                110       1       0      1           0         0  ...   \n",
       "6                 13       1       0      1           0         0  ...   \n",
       "7                  8       1       0      1           0         0  ...   \n",
       "9                 12       1       0      1           0         0  ...   \n",
       "11                49       1       0      1           0         0  ...   \n",
       "12               261       1       0      1           0         0  ...   \n",
       "13                 2       1       0      1           0         0  ...   \n",
       "14                14       1       0      1           0         0  ...   \n",
       "\n",
       "    Animation &amp; Modeling  Video Production  Utilities  Web Publishing  \\\n",
       "0                          0                 0          0               0   \n",
       "4                          0                 0          0               0   \n",
       "5                          0                 0          0               0   \n",
       "6                          0                 0          0               0   \n",
       "7                          0                 0          0               0   \n",
       "9                          0                 0          0               0   \n",
       "11                         0                 0          0               0   \n",
       "12                         0                 0          0               0   \n",
       "13                         0                 0          0               0   \n",
       "14                         0                 0          0               0   \n",
       "\n",
       "    Education  Software Training  Design &amp; Illustration  Audio Production  \\\n",
       "0           0                  0                          0                 0   \n",
       "4           0                  0                          0                 0   \n",
       "5           0                  0                          0                 0   \n",
       "6           0                  0                          0                 0   \n",
       "7           0                  0                          0                 0   \n",
       "9           0                  0                          0                 0   \n",
       "11          0                  0                          0                 0   \n",
       "12          0                  0                          0                 0   \n",
       "13          0                  0                          0                 0   \n",
       "14          0                  0                          0                 0   \n",
       "\n",
       "    Photo Editing  Accounting  \n",
       "0               0           0  \n",
       "4               0           0  \n",
       "5               0           0  \n",
       "6               0           0  \n",
       "7               0           0  \n",
       "9               0           0  \n",
       "11              0           0  \n",
       "12              0           0  \n",
       "13              0           0  \n",
       "14              0           0  \n",
       "\n",
       "[10 rows x 27 columns]"
      ]
     },
     "execution_count": 18,
     "metadata": {},
     "output_type": "execute_result"
    }
   ],
   "source": [
    "df_games_items.head(10)"
   ]
  },
  {
   "cell_type": "markdown",
   "metadata": {},
   "source": [
    "Para mayor legibilidad del dataframe y el costo de trabajo, se decide eliminar las filas de los jugadores con mas de 100 horas jugadas por juego, de la columna \"playtime_forever\""
   ]
  },
  {
   "cell_type": "code",
   "execution_count": 22,
   "metadata": {},
   "outputs": [],
   "source": [
    "df_games_items=df_games_items.drop(df_games_items[df_games_items[\"playtime_forever\"]>100].index)\n",
    "df_games_items=df_games_items.reset_index(drop=True)\n"
   ]
  },
  {
   "cell_type": "code",
   "execution_count": 23,
   "metadata": {},
   "outputs": [
    {
     "data": {
      "text/plain": [
       "(793271, 27)"
      ]
     },
     "execution_count": 23,
     "metadata": {},
     "output_type": "execute_result"
    }
   ],
   "source": [
    "df_games_items.shape"
   ]
  },
  {
   "cell_type": "markdown",
   "metadata": {},
   "source": [
    "################################"
   ]
  },
  {
   "cell_type": "code",
   "execution_count": 24,
   "metadata": {},
   "outputs": [
    {
     "name": "stdout",
     "output_type": "stream",
     "text": [
      "<class 'pandas.core.frame.DataFrame'>\n",
      "RangeIndex: 59305 entries, 0 to 59304\n",
      "Data columns (total 5 columns):\n",
      " #   Column           Non-Null Count  Dtype \n",
      "---  ------           --------------  ----- \n",
      " 0   item_id          59305 non-null  int64 \n",
      " 1   recommend        59305 non-null  bool  \n",
      " 2   user_id          59305 non-null  object\n",
      " 3   sentiment_score  59305 non-null  int64 \n",
      " 4   posted_year      59305 non-null  int64 \n",
      "dtypes: bool(1), int64(3), object(1)\n",
      "memory usage: 1.9+ MB\n"
     ]
    }
   ],
   "source": [
    "df_reviews.info()"
   ]
  },
  {
   "cell_type": "code",
   "execution_count": 25,
   "metadata": {},
   "outputs": [
    {
     "data": {
      "text/html": [
       "<div>\n",
       "<style scoped>\n",
       "    .dataframe tbody tr th:only-of-type {\n",
       "        vertical-align: middle;\n",
       "    }\n",
       "\n",
       "    .dataframe tbody tr th {\n",
       "        vertical-align: top;\n",
       "    }\n",
       "\n",
       "    .dataframe thead th {\n",
       "        text-align: right;\n",
       "    }\n",
       "</style>\n",
       "<table border=\"1\" class=\"dataframe\">\n",
       "  <thead>\n",
       "    <tr style=\"text-align: right;\">\n",
       "      <th></th>\n",
       "      <th>item_id</th>\n",
       "      <th>recommend</th>\n",
       "      <th>user_id</th>\n",
       "      <th>sentiment_score</th>\n",
       "      <th>posted_year</th>\n",
       "    </tr>\n",
       "  </thead>\n",
       "  <tbody>\n",
       "    <tr>\n",
       "      <th>0</th>\n",
       "      <td>1250</td>\n",
       "      <td>True</td>\n",
       "      <td>76561197970982479</td>\n",
       "      <td>2</td>\n",
       "      <td>2011</td>\n",
       "    </tr>\n",
       "    <tr>\n",
       "      <th>1</th>\n",
       "      <td>22200</td>\n",
       "      <td>True</td>\n",
       "      <td>76561197970982479</td>\n",
       "      <td>2</td>\n",
       "      <td>2011</td>\n",
       "    </tr>\n",
       "  </tbody>\n",
       "</table>\n",
       "</div>"
      ],
      "text/plain": [
       "   item_id  recommend            user_id  sentiment_score  posted_year\n",
       "0     1250       True  76561197970982479                2         2011\n",
       "1    22200       True  76561197970982479                2         2011"
      ]
     },
     "execution_count": 25,
     "metadata": {},
     "output_type": "execute_result"
    }
   ],
   "source": [
    "df_reviews.rename(columns={\"item_id_x\":\"item_id\"}, inplace=True)\n",
    "df_reviews.head(2)"
   ]
  },
  {
   "cell_type": "markdown",
   "metadata": {},
   "source": [
    "Se renombra columnas preparando el dataframe para union"
   ]
  },
  {
   "cell_type": "code",
   "execution_count": 26,
   "metadata": {},
   "outputs": [
    {
     "data": {
      "text/html": [
       "<div>\n",
       "<style scoped>\n",
       "    .dataframe tbody tr th:only-of-type {\n",
       "        vertical-align: middle;\n",
       "    }\n",
       "\n",
       "    .dataframe tbody tr th {\n",
       "        vertical-align: top;\n",
       "    }\n",
       "\n",
       "    .dataframe thead th {\n",
       "        text-align: right;\n",
       "    }\n",
       "</style>\n",
       "<table border=\"1\" class=\"dataframe\">\n",
       "  <thead>\n",
       "    <tr style=\"text-align: right;\">\n",
       "      <th></th>\n",
       "      <th>item_name</th>\n",
       "      <th>item_id</th>\n",
       "      <th>developer</th>\n",
       "      <th>Action</th>\n",
       "      <th>Casual</th>\n",
       "      <th>Indie</th>\n",
       "      <th>Simulation</th>\n",
       "      <th>Strategy</th>\n",
       "      <th>Free to Play</th>\n",
       "      <th>RPG</th>\n",
       "      <th>...</th>\n",
       "      <th>Animation &amp;amp; Modeling</th>\n",
       "      <th>Video Production</th>\n",
       "      <th>Utilities</th>\n",
       "      <th>Web Publishing</th>\n",
       "      <th>Education</th>\n",
       "      <th>Software Training</th>\n",
       "      <th>Design &amp;amp; Illustration</th>\n",
       "      <th>Audio Production</th>\n",
       "      <th>Photo Editing</th>\n",
       "      <th>Accounting</th>\n",
       "    </tr>\n",
       "  </thead>\n",
       "  <tbody>\n",
       "    <tr>\n",
       "      <th>0</th>\n",
       "      <td>Lost Summoner Kitty</td>\n",
       "      <td>761140</td>\n",
       "      <td>Kotoshiro</td>\n",
       "      <td>1</td>\n",
       "      <td>1</td>\n",
       "      <td>1</td>\n",
       "      <td>1</td>\n",
       "      <td>1</td>\n",
       "      <td>0</td>\n",
       "      <td>0</td>\n",
       "      <td>...</td>\n",
       "      <td>0</td>\n",
       "      <td>0</td>\n",
       "      <td>0</td>\n",
       "      <td>0</td>\n",
       "      <td>0</td>\n",
       "      <td>0</td>\n",
       "      <td>0</td>\n",
       "      <td>0</td>\n",
       "      <td>0</td>\n",
       "      <td>0</td>\n",
       "    </tr>\n",
       "    <tr>\n",
       "      <th>1</th>\n",
       "      <td>Ironbound</td>\n",
       "      <td>643980</td>\n",
       "      <td>Secret Level SRL</td>\n",
       "      <td>0</td>\n",
       "      <td>0</td>\n",
       "      <td>1</td>\n",
       "      <td>0</td>\n",
       "      <td>1</td>\n",
       "      <td>1</td>\n",
       "      <td>1</td>\n",
       "      <td>...</td>\n",
       "      <td>0</td>\n",
       "      <td>0</td>\n",
       "      <td>0</td>\n",
       "      <td>0</td>\n",
       "      <td>0</td>\n",
       "      <td>0</td>\n",
       "      <td>0</td>\n",
       "      <td>0</td>\n",
       "      <td>0</td>\n",
       "      <td>0</td>\n",
       "    </tr>\n",
       "  </tbody>\n",
       "</table>\n",
       "<p>2 rows × 25 columns</p>\n",
       "</div>"
      ],
      "text/plain": [
       "             item_name  item_id         developer  Action  Casual  Indie  \\\n",
       "0  Lost Summoner Kitty   761140         Kotoshiro       1       1      1   \n",
       "1            Ironbound   643980  Secret Level SRL       0       0      1   \n",
       "\n",
       "   Simulation  Strategy  Free to Play  RPG  ...  Animation &amp; Modeling  \\\n",
       "0           1         1             0    0  ...                         0   \n",
       "1           0         1             1    1  ...                         0   \n",
       "\n",
       "   Video Production  Utilities  Web Publishing  Education  Software Training  \\\n",
       "0                 0          0               0          0                  0   \n",
       "1                 0          0               0          0                  0   \n",
       "\n",
       "   Design &amp; Illustration  Audio Production  Photo Editing  Accounting  \n",
       "0                          0                 0              0           0  \n",
       "1                          0                 0              0           0  \n",
       "\n",
       "[2 rows x 25 columns]"
      ]
     },
     "execution_count": 26,
     "metadata": {},
     "output_type": "execute_result"
    }
   ],
   "source": [
    "df_games.rename(columns={\"id\":\"item_id\", \"title\":\"item_name\"}, inplace=True)\n",
    "df_games[\"item_id\"]=df_games[\"item_id\"].astype(\"Int64\")\n",
    "\n",
    "df_games.head(2)"
   ]
  },
  {
   "cell_type": "markdown",
   "metadata": {},
   "source": [
    "Union de los dataframe \"df_reviews\" y \"df_games\""
   ]
  },
  {
   "cell_type": "code",
   "execution_count": 27,
   "metadata": {},
   "outputs": [],
   "source": [
    "df_reviews_games=pd.merge(df_reviews, df_games, on=\"item_id\", how=\"inner\")"
   ]
  },
  {
   "cell_type": "code",
   "execution_count": 28,
   "metadata": {},
   "outputs": [
    {
     "name": "stdout",
     "output_type": "stream",
     "text": [
      "<class 'pandas.core.frame.DataFrame'>\n",
      "RangeIndex: 50643 entries, 0 to 50642\n",
      "Data columns (total 29 columns):\n",
      " #   Column                     Non-Null Count  Dtype \n",
      "---  ------                     --------------  ----- \n",
      " 0   item_id                    50643 non-null  int64 \n",
      " 1   recommend                  50643 non-null  bool  \n",
      " 2   user_id                    50643 non-null  object\n",
      " 3   sentiment_score            50643 non-null  int64 \n",
      " 4   posted_year                50643 non-null  int64 \n",
      " 5   item_name                  50643 non-null  object\n",
      " 6   developer                  50361 non-null  object\n",
      " 7   Action                     50643 non-null  int64 \n",
      " 8   Casual                     50643 non-null  int64 \n",
      " 9   Indie                      50643 non-null  int64 \n",
      " 10  Simulation                 50643 non-null  int64 \n",
      " 11  Strategy                   50643 non-null  int64 \n",
      " 12  Free to Play               50643 non-null  int64 \n",
      " 13  RPG                        50643 non-null  int64 \n",
      " 14  Sports                     50643 non-null  int64 \n",
      " 15  Adventure                  50643 non-null  int64 \n",
      " 16  Racing                     50643 non-null  int64 \n",
      " 17  Early Access               50643 non-null  int64 \n",
      " 18  Massively Multiplayer      50643 non-null  int64 \n",
      " 19  Animation &amp; Modeling   50643 non-null  int64 \n",
      " 20  Video Production           50643 non-null  int64 \n",
      " 21  Utilities                  50643 non-null  int64 \n",
      " 22  Web Publishing             50643 non-null  int64 \n",
      " 23  Education                  50643 non-null  int64 \n",
      " 24  Software Training          50643 non-null  int64 \n",
      " 25  Design &amp; Illustration  50643 non-null  int64 \n",
      " 26  Audio Production           50643 non-null  int64 \n",
      " 27  Photo Editing              50643 non-null  int64 \n",
      " 28  Accounting                 50643 non-null  int64 \n",
      "dtypes: bool(1), int64(25), object(3)\n",
      "memory usage: 10.9+ MB\n"
     ]
    }
   ],
   "source": [
    "df_reviews_games.info()"
   ]
  },
  {
   "cell_type": "code",
   "execution_count": 29,
   "metadata": {},
   "outputs": [
    {
     "data": {
      "text/html": [
       "<div>\n",
       "<style scoped>\n",
       "    .dataframe tbody tr th:only-of-type {\n",
       "        vertical-align: middle;\n",
       "    }\n",
       "\n",
       "    .dataframe tbody tr th {\n",
       "        vertical-align: top;\n",
       "    }\n",
       "\n",
       "    .dataframe thead th {\n",
       "        text-align: right;\n",
       "    }\n",
       "</style>\n",
       "<table border=\"1\" class=\"dataframe\">\n",
       "  <thead>\n",
       "    <tr style=\"text-align: right;\">\n",
       "      <th></th>\n",
       "      <th>item_id</th>\n",
       "      <th>recommend</th>\n",
       "      <th>user_id</th>\n",
       "      <th>sentiment_score</th>\n",
       "      <th>posted_year</th>\n",
       "      <th>item_name</th>\n",
       "      <th>developer</th>\n",
       "      <th>Action</th>\n",
       "      <th>Casual</th>\n",
       "      <th>Indie</th>\n",
       "      <th>...</th>\n",
       "      <th>Animation &amp;amp; Modeling</th>\n",
       "      <th>Video Production</th>\n",
       "      <th>Utilities</th>\n",
       "      <th>Web Publishing</th>\n",
       "      <th>Education</th>\n",
       "      <th>Software Training</th>\n",
       "      <th>Design &amp;amp; Illustration</th>\n",
       "      <th>Audio Production</th>\n",
       "      <th>Photo Editing</th>\n",
       "      <th>Accounting</th>\n",
       "    </tr>\n",
       "  </thead>\n",
       "  <tbody>\n",
       "    <tr>\n",
       "      <th>0</th>\n",
       "      <td>1250</td>\n",
       "      <td>True</td>\n",
       "      <td>76561197970982479</td>\n",
       "      <td>2</td>\n",
       "      <td>2011</td>\n",
       "      <td>Killing Floor</td>\n",
       "      <td>Tripwire Interactive</td>\n",
       "      <td>1</td>\n",
       "      <td>0</td>\n",
       "      <td>0</td>\n",
       "      <td>...</td>\n",
       "      <td>0</td>\n",
       "      <td>0</td>\n",
       "      <td>0</td>\n",
       "      <td>0</td>\n",
       "      <td>0</td>\n",
       "      <td>0</td>\n",
       "      <td>0</td>\n",
       "      <td>0</td>\n",
       "      <td>0</td>\n",
       "      <td>0</td>\n",
       "    </tr>\n",
       "    <tr>\n",
       "      <th>1</th>\n",
       "      <td>1250</td>\n",
       "      <td>True</td>\n",
       "      <td>death-hunter</td>\n",
       "      <td>2</td>\n",
       "      <td>2015</td>\n",
       "      <td>Killing Floor</td>\n",
       "      <td>Tripwire Interactive</td>\n",
       "      <td>1</td>\n",
       "      <td>0</td>\n",
       "      <td>0</td>\n",
       "      <td>...</td>\n",
       "      <td>0</td>\n",
       "      <td>0</td>\n",
       "      <td>0</td>\n",
       "      <td>0</td>\n",
       "      <td>0</td>\n",
       "      <td>0</td>\n",
       "      <td>0</td>\n",
       "      <td>0</td>\n",
       "      <td>0</td>\n",
       "      <td>0</td>\n",
       "    </tr>\n",
       "  </tbody>\n",
       "</table>\n",
       "<p>2 rows × 29 columns</p>\n",
       "</div>"
      ],
      "text/plain": [
       "   item_id  recommend            user_id  sentiment_score  posted_year  \\\n",
       "0     1250       True  76561197970982479                2         2011   \n",
       "1     1250       True       death-hunter                2         2015   \n",
       "\n",
       "       item_name             developer  Action  Casual  Indie  ...  \\\n",
       "0  Killing Floor  Tripwire Interactive       1       0      0  ...   \n",
       "1  Killing Floor  Tripwire Interactive       1       0      0  ...   \n",
       "\n",
       "   Animation &amp; Modeling  Video Production  Utilities  Web Publishing  \\\n",
       "0                         0                 0          0               0   \n",
       "1                         0                 0          0               0   \n",
       "\n",
       "   Education  Software Training  Design &amp; Illustration  Audio Production  \\\n",
       "0          0                  0                          0                 0   \n",
       "1          0                  0                          0                 0   \n",
       "\n",
       "   Photo Editing  Accounting  \n",
       "0              0           0  \n",
       "1              0           0  \n",
       "\n",
       "[2 rows x 29 columns]"
      ]
     },
     "execution_count": 29,
     "metadata": {},
     "output_type": "execute_result"
    }
   ],
   "source": [
    "df_reviews_games.head(2)"
   ]
  },
  {
   "cell_type": "markdown",
   "metadata": {},
   "source": [
    "Union del ultimo dataframe, para dejar uno solo con toda los datos necesarios "
   ]
  },
  {
   "cell_type": "code",
   "execution_count": 56,
   "metadata": {},
   "outputs": [],
   "source": [
    "df_merged=pd.merge(df_games_items, df_reviews, on=\"user_id\")"
   ]
  },
  {
   "cell_type": "markdown",
   "metadata": {},
   "source": [
    "Se verifica la estructura de los datos, eliminando columnas repetidas y renombrandolas, dando formato para su correcta visualizacion"
   ]
  },
  {
   "cell_type": "code",
   "execution_count": 57,
   "metadata": {},
   "outputs": [
    {
     "data": {
      "text/plain": [
       "Index(['item_id_x', 'item_name', 'developer', 'user_id', 'playtime_forever',\n",
       "       'Action', 'Casual', 'Indie', 'Simulation', 'Strategy', 'Free to Play',\n",
       "       'RPG', 'Sports', 'Adventure', 'Racing', 'Early Access',\n",
       "       'Massively Multiplayer', 'Animation &amp; Modeling', 'Video Production',\n",
       "       'Utilities', 'Web Publishing', 'Education', 'Software Training',\n",
       "       'Design &amp; Illustration', 'Audio Production', 'Photo Editing',\n",
       "       'Accounting', 'item_id_y', 'recommend', 'sentiment_score',\n",
       "       'posted_year'],\n",
       "      dtype='object')"
      ]
     },
     "execution_count": 57,
     "metadata": {},
     "output_type": "execute_result"
    }
   ],
   "source": [
    "df_merged.columns"
   ]
  },
  {
   "cell_type": "code",
   "execution_count": null,
   "metadata": {},
   "outputs": [],
   "source": [
    "df_merged.rename(columns={\"item_id_x\":\"item_id\"}, inplace=True)\n",
    "df_merged.drop(columns=\"item_id_y\")\n"
   ]
  },
  {
   "cell_type": "code",
   "execution_count": 64,
   "metadata": {},
   "outputs": [],
   "source": [
    "columnas_ordenadas2=['item_id', 'item_name', 'developer', 'user_id', 'playtime_forever',\n",
    "       'recommend', 'sentiment_score', 'posted_year','Action', 'Casual', 'Indie', 'Simulation', 'Strategy', 'Free to Play',\n",
    "       'RPG', 'Sports', 'Adventure', 'Racing', 'Early Access',\n",
    "       'Massively Multiplayer', 'Animation &amp; Modeling', 'Video Production',\n",
    "       'Utilities', 'Web Publishing', 'Education', 'Software Training',\n",
    "       'Design &amp; Illustration', 'Audio Production', 'Photo Editing',\n",
    "       'Accounting' ]\n",
    "df_merged=df_merged[columnas_ordenadas2]"
   ]
  },
  {
   "cell_type": "code",
   "execution_count": 67,
   "metadata": {},
   "outputs": [
    {
     "data": {
      "text/plain": [
       "(1224076, 30)"
      ]
     },
     "execution_count": 67,
     "metadata": {},
     "output_type": "execute_result"
    }
   ],
   "source": [
    "df_merged.shape"
   ]
  },
  {
   "cell_type": "markdown",
   "metadata": {},
   "source": [
    "Se Guarda el dataframe en nuevo CSV optimizado "
   ]
  },
  {
   "cell_type": "code",
   "execution_count": 66,
   "metadata": {},
   "outputs": [],
   "source": [
    "df_merged.to_csv(\"Df_Merged.csv\",index=False)"
   ]
  }
 ],
 "metadata": {
  "kernelspec": {
   "display_name": "Python 3",
   "language": "python",
   "name": "python3"
  },
  "language_info": {
   "codemirror_mode": {
    "name": "ipython",
    "version": 3
   },
   "file_extension": ".py",
   "mimetype": "text/x-python",
   "name": "python",
   "nbconvert_exporter": "python",
   "pygments_lexer": "ipython3",
   "version": "3.11.7"
  }
 },
 "nbformat": 4,
 "nbformat_minor": 2
}
