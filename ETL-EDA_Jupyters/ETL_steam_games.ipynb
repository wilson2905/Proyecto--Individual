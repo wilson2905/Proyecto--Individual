{
 "cells": [
  {
   "cell_type": "markdown",
   "metadata": {},
   "source": [
    "Se importan las librerias necesarias a utilizar"
   ]
  },
  {
   "cell_type": "code",
   "execution_count": 56,
   "metadata": {},
   "outputs": [],
   "source": [
    "import json\n",
    "import pandas as pd\n",
    "import gzip\n",
    "import numpy as np"
   ]
  },
  {
   "cell_type": "markdown",
   "metadata": {},
   "source": [
    "Se declara la direccion del Dataset"
   ]
  },
  {
   "cell_type": "code",
   "execution_count": 13,
   "metadata": {},
   "outputs": [],
   "source": [
    "ruta_archivo3=r\"C:\\Users\\Usuario\\Desktop\\ProyectoIndividual\\DataSets-Steam\\output_steam_games.json\"\n"
   ]
  },
  {
   "cell_type": "markdown",
   "metadata": {},
   "source": [
    "Apertura del dataset, para trabajarlo dentro de un DataFrame"
   ]
  },
  {
   "cell_type": "code",
   "execution_count": 40,
   "metadata": {},
   "outputs": [],
   "source": [
    "df_3 = []\n",
    "with open(ruta_archivo3,'rt', encoding='utf-8') as f:\n",
    "    for line in f:\n",
    "        df_3.append(json.loads(line))\n",
    "df3  = pd.DataFrame(df_3)"
   ]
  },
  {
   "cell_type": "code",
   "execution_count": null,
   "metadata": {},
   "outputs": [],
   "source": [
    "df3.head()"
   ]
  },
  {
   "cell_type": "markdown",
   "metadata": {},
   "source": [
    "Se eliminan las Filas que estan completamente nulas"
   ]
  },
  {
   "cell_type": "code",
   "execution_count": 41,
   "metadata": {},
   "outputs": [
    {
     "data": {
      "text/html": [
       "<div>\n",
       "<style scoped>\n",
       "    .dataframe tbody tr th:only-of-type {\n",
       "        vertical-align: middle;\n",
       "    }\n",
       "\n",
       "    .dataframe tbody tr th {\n",
       "        vertical-align: top;\n",
       "    }\n",
       "\n",
       "    .dataframe thead th {\n",
       "        text-align: right;\n",
       "    }\n",
       "</style>\n",
       "<table border=\"1\" class=\"dataframe\">\n",
       "  <thead>\n",
       "    <tr style=\"text-align: right;\">\n",
       "      <th></th>\n",
       "      <th>publisher</th>\n",
       "      <th>genres</th>\n",
       "      <th>app_name</th>\n",
       "      <th>title</th>\n",
       "      <th>url</th>\n",
       "      <th>release_date</th>\n",
       "      <th>tags</th>\n",
       "      <th>reviews_url</th>\n",
       "      <th>specs</th>\n",
       "      <th>price</th>\n",
       "      <th>early_access</th>\n",
       "      <th>id</th>\n",
       "      <th>developer</th>\n",
       "    </tr>\n",
       "  </thead>\n",
       "  <tbody>\n",
       "    <tr>\n",
       "      <th>0</th>\n",
       "      <td>Kotoshiro</td>\n",
       "      <td>[Action, Casual, Indie, Simulation, Strategy]</td>\n",
       "      <td>Lost Summoner Kitty</td>\n",
       "      <td>Lost Summoner Kitty</td>\n",
       "      <td>http://store.steampowered.com/app/761140/Lost_...</td>\n",
       "      <td>2018-01-04</td>\n",
       "      <td>[Strategy, Action, Indie, Casual, Simulation]</td>\n",
       "      <td>http://steamcommunity.com/app/761140/reviews/?...</td>\n",
       "      <td>[Single-player]</td>\n",
       "      <td>4.99</td>\n",
       "      <td>False</td>\n",
       "      <td>761140</td>\n",
       "      <td>Kotoshiro</td>\n",
       "    </tr>\n",
       "  </tbody>\n",
       "</table>\n",
       "</div>"
      ],
      "text/plain": [
       "   publisher                                         genres  \\\n",
       "0  Kotoshiro  [Action, Casual, Indie, Simulation, Strategy]   \n",
       "\n",
       "              app_name                title  \\\n",
       "0  Lost Summoner Kitty  Lost Summoner Kitty   \n",
       "\n",
       "                                                 url release_date  \\\n",
       "0  http://store.steampowered.com/app/761140/Lost_...   2018-01-04   \n",
       "\n",
       "                                            tags  \\\n",
       "0  [Strategy, Action, Indie, Casual, Simulation]   \n",
       "\n",
       "                                         reviews_url            specs price  \\\n",
       "0  http://steamcommunity.com/app/761140/reviews/?...  [Single-player]  4.99   \n",
       "\n",
       "  early_access      id  developer  \n",
       "0        False  761140  Kotoshiro  "
      ]
     },
     "execution_count": 41,
     "metadata": {},
     "output_type": "execute_result"
    }
   ],
   "source": [
    "df3.dropna(how=\"all\", inplace=True)\n",
    "df3.reset_index(drop=True, inplace=True)\n",
    "df3.head(1)"
   ]
  },
  {
   "cell_type": "markdown",
   "metadata": {},
   "source": [
    "Se eliminan las columnas que son irrelevantes para el Dataframe"
   ]
  },
  {
   "cell_type": "code",
   "execution_count": 42,
   "metadata": {},
   "outputs": [],
   "source": [
    "columns_to_drop=[\"publisher\",\"app_name\", \"url\", \"release_date\", \"tags\", \"reviews_url\", \"specs\", \"price\", \"early_access\"]\n",
    "df3.drop(columns=columns_to_drop, inplace=True)\n"
   ]
  },
  {
   "cell_type": "code",
   "execution_count": 50,
   "metadata": {},
   "outputs": [
    {
     "data": {
      "text/html": [
       "<div>\n",
       "<style scoped>\n",
       "    .dataframe tbody tr th:only-of-type {\n",
       "        vertical-align: middle;\n",
       "    }\n",
       "\n",
       "    .dataframe tbody tr th {\n",
       "        vertical-align: top;\n",
       "    }\n",
       "\n",
       "    .dataframe thead th {\n",
       "        text-align: right;\n",
       "    }\n",
       "</style>\n",
       "<table border=\"1\" class=\"dataframe\">\n",
       "  <thead>\n",
       "    <tr style=\"text-align: right;\">\n",
       "      <th></th>\n",
       "      <th>genres</th>\n",
       "      <th>title</th>\n",
       "      <th>id</th>\n",
       "      <th>developer</th>\n",
       "    </tr>\n",
       "  </thead>\n",
       "  <tbody>\n",
       "    <tr>\n",
       "      <th>0</th>\n",
       "      <td>[Action, Casual, Indie, Simulation, Strategy]</td>\n",
       "      <td>Lost Summoner Kitty</td>\n",
       "      <td>761140</td>\n",
       "      <td>Kotoshiro</td>\n",
       "    </tr>\n",
       "    <tr>\n",
       "      <th>1</th>\n",
       "      <td>[Free to Play, Indie, RPG, Strategy]</td>\n",
       "      <td>Ironbound</td>\n",
       "      <td>643980</td>\n",
       "      <td>Secret Level SRL</td>\n",
       "    </tr>\n",
       "    <tr>\n",
       "      <th>2</th>\n",
       "      <td>[Casual, Free to Play, Indie, Simulation, Sports]</td>\n",
       "      <td>Real Pool 3D - Poolians</td>\n",
       "      <td>670290</td>\n",
       "      <td>Poolians.com</td>\n",
       "    </tr>\n",
       "    <tr>\n",
       "      <th>3</th>\n",
       "      <td>[Action, Adventure, Casual]</td>\n",
       "      <td>弹炸人2222</td>\n",
       "      <td>767400</td>\n",
       "      <td>彼岸领域</td>\n",
       "    </tr>\n",
       "    <tr>\n",
       "      <th>4</th>\n",
       "      <td>NaN</td>\n",
       "      <td>NaN</td>\n",
       "      <td>773570</td>\n",
       "      <td>NaN</td>\n",
       "    </tr>\n",
       "    <tr>\n",
       "      <th>...</th>\n",
       "      <td>...</td>\n",
       "      <td>...</td>\n",
       "      <td>...</td>\n",
       "      <td>...</td>\n",
       "    </tr>\n",
       "    <tr>\n",
       "      <th>95</th>\n",
       "      <td>[Strategy]</td>\n",
       "      <td>Warhammer® 40,000: Dawn of War® – Winter Assault</td>\n",
       "      <td>9310</td>\n",
       "      <td>Relic Entertainment</td>\n",
       "    </tr>\n",
       "    <tr>\n",
       "      <th>96</th>\n",
       "      <td>[Action, RPG]</td>\n",
       "      <td>BioShock™</td>\n",
       "      <td>7670</td>\n",
       "      <td>2K Boston,2K Australia</td>\n",
       "    </tr>\n",
       "    <tr>\n",
       "      <th>97</th>\n",
       "      <td>[Strategy]</td>\n",
       "      <td>Warhammer® 40,000: Dawn of War® - Game of the ...</td>\n",
       "      <td>4570</td>\n",
       "      <td>Relic Entertainment</td>\n",
       "    </tr>\n",
       "    <tr>\n",
       "      <th>98</th>\n",
       "      <td>[Strategy]</td>\n",
       "      <td>Warhammer® 40,000: Dawn of War® - Dark Crusade</td>\n",
       "      <td>4580</td>\n",
       "      <td>Relic Entertainment</td>\n",
       "    </tr>\n",
       "    <tr>\n",
       "      <th>99</th>\n",
       "      <td>[Strategy]</td>\n",
       "      <td>Rome: Total War™ - Collection</td>\n",
       "      <td>4760</td>\n",
       "      <td>The Creative Assembly</td>\n",
       "    </tr>\n",
       "  </tbody>\n",
       "</table>\n",
       "<p>100 rows × 4 columns</p>\n",
       "</div>"
      ],
      "text/plain": [
       "                                               genres  \\\n",
       "0       [Action, Casual, Indie, Simulation, Strategy]   \n",
       "1                [Free to Play, Indie, RPG, Strategy]   \n",
       "2   [Casual, Free to Play, Indie, Simulation, Sports]   \n",
       "3                         [Action, Adventure, Casual]   \n",
       "4                                                 NaN   \n",
       "..                                                ...   \n",
       "95                                         [Strategy]   \n",
       "96                                      [Action, RPG]   \n",
       "97                                         [Strategy]   \n",
       "98                                         [Strategy]   \n",
       "99                                         [Strategy]   \n",
       "\n",
       "                                                title      id  \\\n",
       "0                                 Lost Summoner Kitty  761140   \n",
       "1                                           Ironbound  643980   \n",
       "2                             Real Pool 3D - Poolians  670290   \n",
       "3                                             弹炸人2222  767400   \n",
       "4                                                 NaN  773570   \n",
       "..                                                ...     ...   \n",
       "95   Warhammer® 40,000: Dawn of War® – Winter Assault    9310   \n",
       "96                                          BioShock™    7670   \n",
       "97  Warhammer® 40,000: Dawn of War® - Game of the ...    4570   \n",
       "98     Warhammer® 40,000: Dawn of War® - Dark Crusade    4580   \n",
       "99                      Rome: Total War™ - Collection    4760   \n",
       "\n",
       "                 developer  \n",
       "0                Kotoshiro  \n",
       "1         Secret Level SRL  \n",
       "2             Poolians.com  \n",
       "3                     彼岸领域  \n",
       "4                      NaN  \n",
       "..                     ...  \n",
       "95     Relic Entertainment  \n",
       "96  2K Boston,2K Australia  \n",
       "97     Relic Entertainment  \n",
       "98     Relic Entertainment  \n",
       "99   The Creative Assembly  \n",
       "\n",
       "[100 rows x 4 columns]"
      ]
     },
     "execution_count": 50,
     "metadata": {},
     "output_type": "execute_result"
    }
   ],
   "source": [
    "df3.head(100)\n"
   ]
  },
  {
   "cell_type": "markdown",
   "metadata": {},
   "source": [
    "Se descomprime y se crean los \"dummies\" para rellenar y estructurar el dataframe"
   ]
  },
  {
   "cell_type": "code",
   "execution_count": 57,
   "metadata": {},
   "outputs": [
    {
     "name": "stderr",
     "output_type": "stream",
     "text": [
      "C:\\Users\\Usuario\\AppData\\Local\\Temp\\ipykernel_2840\\1409265638.py:10: FutureWarning: The 'downcast' keyword in fillna is deprecated and will be removed in a future version. Use res.infer_objects(copy=False) to infer non-object dtype, or pd.to_numeric with the 'downcast' keyword to downcast numeric results.\n",
      "  df_dummies = df_dummies.fillna(0, downcast='int')\n"
     ]
    }
   ],
   "source": [
    "# Supongamos que 'df3' es tu DataFrame con la columna 'genres'\n",
    "\n",
    "# Verificar y reemplazar los valores que no son listas con listas vacías\n",
    "df3['genres'] = df3['genres'].apply(lambda x: x if isinstance(x, list) else [])\n",
    "\n",
    "# Aplicar get_dummies a lo largo de las columnas (axis=1) y expandir a nuevas columnas\n",
    "df_dummies = df3['genres'].apply(lambda x: pd.Series({genre: 1 for genre in x}))\n",
    "\n",
    "# Llenar NaN en df_dummies con 0\n",
    "df_dummies = df_dummies.fillna(0, downcast='int')\n",
    "\n",
    "# Concatenar el DataFrame original con las nuevas columnas dummy\n",
    "dfgames = pd.concat([df3, df_dummies], axis=1)\n",
    "\n",
    "# Eliminar la columna original \"genres\"\n",
    "dfgames = dfgames.drop('genres', axis=1)\n"
   ]
  },
  {
   "cell_type": "markdown",
   "metadata": {},
   "source": [
    "Se elimina los valores nulos restantes, tomando como referencia solo la columna de \"title\""
   ]
  },
  {
   "cell_type": "code",
   "execution_count": 59,
   "metadata": {},
   "outputs": [],
   "source": [
    "dfgames.dropna(subset=[\"title\"], how=\"all\", inplace=True)"
   ]
  },
  {
   "cell_type": "code",
   "execution_count": 60,
   "metadata": {},
   "outputs": [
    {
     "data": {
      "text/plain": [
       "(30085, 25)"
      ]
     },
     "execution_count": 60,
     "metadata": {},
     "output_type": "execute_result"
    }
   ],
   "source": [
    "dfgames.shape"
   ]
  },
  {
   "cell_type": "code",
   "execution_count": 62,
   "metadata": {},
   "outputs": [
    {
     "data": {
      "text/plain": [
       "Index(['title', 'id', 'developer', 'Action', 'Casual', 'Indie', 'Simulation',\n",
       "       'Strategy', 'Free to Play', 'RPG', 'Sports', 'Adventure', 'Racing',\n",
       "       'Early Access', 'Massively Multiplayer', 'Animation &amp; Modeling',\n",
       "       'Video Production', 'Utilities', 'Web Publishing', 'Education',\n",
       "       'Software Training', 'Design &amp; Illustration', 'Audio Production',\n",
       "       'Photo Editing', 'Accounting'],\n",
       "      dtype='object')"
      ]
     },
     "execution_count": 62,
     "metadata": {},
     "output_type": "execute_result"
    }
   ],
   "source": [
    "dfgames.columns"
   ]
  },
  {
   "cell_type": "markdown",
   "metadata": {},
   "source": [
    "Se guarda el archivo para su uso "
   ]
  },
  {
   "cell_type": "code",
   "execution_count": 64,
   "metadata": {},
   "outputs": [],
   "source": [
    "dfgames.to_csv(\"steam_games_clean.csv\", index=False)"
   ]
  }
 ],
 "metadata": {
  "kernelspec": {
   "display_name": "Python 3",
   "language": "python",
   "name": "python3"
  },
  "language_info": {
   "codemirror_mode": {
    "name": "ipython",
    "version": 3
   },
   "file_extension": ".py",
   "mimetype": "text/x-python",
   "name": "python",
   "nbconvert_exporter": "python",
   "pygments_lexer": "ipython3",
   "version": "3.11.7"
  }
 },
 "nbformat": 4,
 "nbformat_minor": 2
}
