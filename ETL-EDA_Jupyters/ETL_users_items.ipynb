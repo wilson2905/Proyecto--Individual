{
 "cells": [
  {
   "cell_type": "markdown",
   "metadata": {},
   "source": [
    "Exploracion, Transformacion y carga del dataset \"User_items\""
   ]
  },
  {
   "cell_type": "code",
   "execution_count": 1,
   "metadata": {},
   "outputs": [],
   "source": [
    "import json\n",
    "import pandas as pd\n",
    "import gzip\n",
    "import numpy as np"
   ]
  },
  {
   "cell_type": "code",
   "execution_count": 3,
   "metadata": {},
   "outputs": [],
   "source": [
    "ruta_archivo2=r\"C:\\Users\\Usuario\\Desktop\\ProyectoIndividual\\DataSets-Steam\\australian_users_items.json\"\n"
   ]
  },
  {
   "cell_type": "code",
   "execution_count": 4,
   "metadata": {},
   "outputs": [],
   "source": [
    "with open(ruta_archivo2, 'r', encoding='utf-8') as w:\n",
    "    data = w.readlines()\n",
    "    data = [eval(line.strip()) for line in data]\n",
    "df2=pd.DataFrame(data)"
   ]
  },
  {
   "cell_type": "markdown",
   "metadata": {},
   "source": [
    "Luego de su aperuta, se procede a verificar el contenido del dataframe creado"
   ]
  },
  {
   "cell_type": "code",
   "execution_count": 5,
   "metadata": {},
   "outputs": [
    {
     "data": {
      "text/html": [
       "<div>\n",
       "<style scoped>\n",
       "    .dataframe tbody tr th:only-of-type {\n",
       "        vertical-align: middle;\n",
       "    }\n",
       "\n",
       "    .dataframe tbody tr th {\n",
       "        vertical-align: top;\n",
       "    }\n",
       "\n",
       "    .dataframe thead th {\n",
       "        text-align: right;\n",
       "    }\n",
       "</style>\n",
       "<table border=\"1\" class=\"dataframe\">\n",
       "  <thead>\n",
       "    <tr style=\"text-align: right;\">\n",
       "      <th></th>\n",
       "      <th>item_id</th>\n",
       "      <th>item_name</th>\n",
       "      <th>playtime_forever</th>\n",
       "      <th>playtime_2weeks</th>\n",
       "      <th>steam_id</th>\n",
       "      <th>items_count</th>\n",
       "      <th>user_id</th>\n",
       "      <th>user_url</th>\n",
       "    </tr>\n",
       "  </thead>\n",
       "  <tbody>\n",
       "    <tr>\n",
       "      <th>0</th>\n",
       "      <td>10</td>\n",
       "      <td>Counter-Strike</td>\n",
       "      <td>6</td>\n",
       "      <td>0</td>\n",
       "      <td>76561197970982479</td>\n",
       "      <td>277</td>\n",
       "      <td>76561197970982479</td>\n",
       "      <td>http://steamcommunity.com/profiles/76561197970...</td>\n",
       "    </tr>\n",
       "    <tr>\n",
       "      <th>1</th>\n",
       "      <td>20</td>\n",
       "      <td>Team Fortress Classic</td>\n",
       "      <td>0</td>\n",
       "      <td>0</td>\n",
       "      <td>76561197970982479</td>\n",
       "      <td>277</td>\n",
       "      <td>76561197970982479</td>\n",
       "      <td>http://steamcommunity.com/profiles/76561197970...</td>\n",
       "    </tr>\n",
       "    <tr>\n",
       "      <th>2</th>\n",
       "      <td>30</td>\n",
       "      <td>Day of Defeat</td>\n",
       "      <td>7</td>\n",
       "      <td>0</td>\n",
       "      <td>76561197970982479</td>\n",
       "      <td>277</td>\n",
       "      <td>76561197970982479</td>\n",
       "      <td>http://steamcommunity.com/profiles/76561197970...</td>\n",
       "    </tr>\n",
       "    <tr>\n",
       "      <th>3</th>\n",
       "      <td>40</td>\n",
       "      <td>Deathmatch Classic</td>\n",
       "      <td>0</td>\n",
       "      <td>0</td>\n",
       "      <td>76561197970982479</td>\n",
       "      <td>277</td>\n",
       "      <td>76561197970982479</td>\n",
       "      <td>http://steamcommunity.com/profiles/76561197970...</td>\n",
       "    </tr>\n",
       "    <tr>\n",
       "      <th>4</th>\n",
       "      <td>50</td>\n",
       "      <td>Half-Life: Opposing Force</td>\n",
       "      <td>0</td>\n",
       "      <td>0</td>\n",
       "      <td>76561197970982479</td>\n",
       "      <td>277</td>\n",
       "      <td>76561197970982479</td>\n",
       "      <td>http://steamcommunity.com/profiles/76561197970...</td>\n",
       "    </tr>\n",
       "    <tr>\n",
       "      <th>...</th>\n",
       "      <td>...</td>\n",
       "      <td>...</td>\n",
       "      <td>...</td>\n",
       "      <td>...</td>\n",
       "      <td>...</td>\n",
       "      <td>...</td>\n",
       "      <td>...</td>\n",
       "      <td>...</td>\n",
       "    </tr>\n",
       "    <tr>\n",
       "      <th>5153204</th>\n",
       "      <td>346330</td>\n",
       "      <td>BrainBread 2</td>\n",
       "      <td>0</td>\n",
       "      <td>0</td>\n",
       "      <td>76561198329548331</td>\n",
       "      <td>7</td>\n",
       "      <td>76561198329548331</td>\n",
       "      <td>http://steamcommunity.com/profiles/76561198329...</td>\n",
       "    </tr>\n",
       "    <tr>\n",
       "      <th>5153205</th>\n",
       "      <td>373330</td>\n",
       "      <td>All Is Dust</td>\n",
       "      <td>0</td>\n",
       "      <td>0</td>\n",
       "      <td>76561198329548331</td>\n",
       "      <td>7</td>\n",
       "      <td>76561198329548331</td>\n",
       "      <td>http://steamcommunity.com/profiles/76561198329...</td>\n",
       "    </tr>\n",
       "    <tr>\n",
       "      <th>5153206</th>\n",
       "      <td>388490</td>\n",
       "      <td>One Way To Die: Steam Edition</td>\n",
       "      <td>3</td>\n",
       "      <td>3</td>\n",
       "      <td>76561198329548331</td>\n",
       "      <td>7</td>\n",
       "      <td>76561198329548331</td>\n",
       "      <td>http://steamcommunity.com/profiles/76561198329...</td>\n",
       "    </tr>\n",
       "    <tr>\n",
       "      <th>5153207</th>\n",
       "      <td>521570</td>\n",
       "      <td>You Have 10 Seconds 2</td>\n",
       "      <td>4</td>\n",
       "      <td>4</td>\n",
       "      <td>76561198329548331</td>\n",
       "      <td>7</td>\n",
       "      <td>76561198329548331</td>\n",
       "      <td>http://steamcommunity.com/profiles/76561198329...</td>\n",
       "    </tr>\n",
       "    <tr>\n",
       "      <th>5153208</th>\n",
       "      <td>519140</td>\n",
       "      <td>Minds Eyes</td>\n",
       "      <td>3</td>\n",
       "      <td>3</td>\n",
       "      <td>76561198329548331</td>\n",
       "      <td>7</td>\n",
       "      <td>76561198329548331</td>\n",
       "      <td>http://steamcommunity.com/profiles/76561198329...</td>\n",
       "    </tr>\n",
       "  </tbody>\n",
       "</table>\n",
       "<p>5153209 rows × 8 columns</p>\n",
       "</div>"
      ],
      "text/plain": [
       "        item_id                      item_name  playtime_forever  \\\n",
       "0            10                 Counter-Strike                 6   \n",
       "1            20          Team Fortress Classic                 0   \n",
       "2            30                  Day of Defeat                 7   \n",
       "3            40             Deathmatch Classic                 0   \n",
       "4            50      Half-Life: Opposing Force                 0   \n",
       "...         ...                            ...               ...   \n",
       "5153204  346330                   BrainBread 2                 0   \n",
       "5153205  373330                    All Is Dust                 0   \n",
       "5153206  388490  One Way To Die: Steam Edition                 3   \n",
       "5153207  521570          You Have 10 Seconds 2                 4   \n",
       "5153208  519140                     Minds Eyes                 3   \n",
       "\n",
       "         playtime_2weeks           steam_id items_count            user_id  \\\n",
       "0                      0  76561197970982479         277  76561197970982479   \n",
       "1                      0  76561197970982479         277  76561197970982479   \n",
       "2                      0  76561197970982479         277  76561197970982479   \n",
       "3                      0  76561197970982479         277  76561197970982479   \n",
       "4                      0  76561197970982479         277  76561197970982479   \n",
       "...                  ...                ...         ...                ...   \n",
       "5153204                0  76561198329548331           7  76561198329548331   \n",
       "5153205                0  76561198329548331           7  76561198329548331   \n",
       "5153206                3  76561198329548331           7  76561198329548331   \n",
       "5153207                4  76561198329548331           7  76561198329548331   \n",
       "5153208                3  76561198329548331           7  76561198329548331   \n",
       "\n",
       "                                                  user_url  \n",
       "0        http://steamcommunity.com/profiles/76561197970...  \n",
       "1        http://steamcommunity.com/profiles/76561197970...  \n",
       "2        http://steamcommunity.com/profiles/76561197970...  \n",
       "3        http://steamcommunity.com/profiles/76561197970...  \n",
       "4        http://steamcommunity.com/profiles/76561197970...  \n",
       "...                                                    ...  \n",
       "5153204  http://steamcommunity.com/profiles/76561198329...  \n",
       "5153205  http://steamcommunity.com/profiles/76561198329...  \n",
       "5153206  http://steamcommunity.com/profiles/76561198329...  \n",
       "5153207  http://steamcommunity.com/profiles/76561198329...  \n",
       "5153208  http://steamcommunity.com/profiles/76561198329...  \n",
       "\n",
       "[5153209 rows x 8 columns]"
      ]
     },
     "execution_count": 5,
     "metadata": {},
     "output_type": "execute_result"
    }
   ],
   "source": [
    "df_items2 = pd.json_normalize(data, record_path=['items'], meta=['steam_id','items_count','user_id', 'user_url'] )\n",
    "df_items2"
   ]
  },
  {
   "cell_type": "markdown",
   "metadata": {},
   "source": [
    "Se eliminan columnas inherentes al contenido por la cual lo vamos a usar "
   ]
  },
  {
   "cell_type": "code",
   "execution_count": 6,
   "metadata": {},
   "outputs": [
    {
     "data": {
      "text/html": [
       "<div>\n",
       "<style scoped>\n",
       "    .dataframe tbody tr th:only-of-type {\n",
       "        vertical-align: middle;\n",
       "    }\n",
       "\n",
       "    .dataframe tbody tr th {\n",
       "        vertical-align: top;\n",
       "    }\n",
       "\n",
       "    .dataframe thead th {\n",
       "        text-align: right;\n",
       "    }\n",
       "</style>\n",
       "<table border=\"1\" class=\"dataframe\">\n",
       "  <thead>\n",
       "    <tr style=\"text-align: right;\">\n",
       "      <th></th>\n",
       "      <th>item_id</th>\n",
       "      <th>item_name</th>\n",
       "      <th>playtime_forever</th>\n",
       "      <th>playtime_2weeks</th>\n",
       "      <th>user_id</th>\n",
       "    </tr>\n",
       "  </thead>\n",
       "  <tbody>\n",
       "    <tr>\n",
       "      <th>0</th>\n",
       "      <td>10</td>\n",
       "      <td>Counter-Strike</td>\n",
       "      <td>6</td>\n",
       "      <td>0</td>\n",
       "      <td>76561197970982479</td>\n",
       "    </tr>\n",
       "    <tr>\n",
       "      <th>1</th>\n",
       "      <td>20</td>\n",
       "      <td>Team Fortress Classic</td>\n",
       "      <td>0</td>\n",
       "      <td>0</td>\n",
       "      <td>76561197970982479</td>\n",
       "    </tr>\n",
       "    <tr>\n",
       "      <th>2</th>\n",
       "      <td>30</td>\n",
       "      <td>Day of Defeat</td>\n",
       "      <td>7</td>\n",
       "      <td>0</td>\n",
       "      <td>76561197970982479</td>\n",
       "    </tr>\n",
       "  </tbody>\n",
       "</table>\n",
       "</div>"
      ],
      "text/plain": [
       "  item_id              item_name  playtime_forever  playtime_2weeks  \\\n",
       "0      10         Counter-Strike                 6                0   \n",
       "1      20  Team Fortress Classic                 0                0   \n",
       "2      30          Day of Defeat                 7                0   \n",
       "\n",
       "             user_id  \n",
       "0  76561197970982479  \n",
       "1  76561197970982479  \n",
       "2  76561197970982479  "
      ]
     },
     "execution_count": 6,
     "metadata": {},
     "output_type": "execute_result"
    }
   ],
   "source": [
    "df_items2.drop(columns=[\"items_count\",\"steam_id\", \"user_url\"], inplace=True)\n",
    "df_items2.head(3)"
   ]
  },
  {
   "cell_type": "code",
   "execution_count": 9,
   "metadata": {},
   "outputs": [
    {
     "name": "stdout",
     "output_type": "stream",
     "text": [
      "<class 'pandas.core.frame.DataFrame'>\n",
      "RangeIndex: 5153209 entries, 0 to 5153208\n",
      "Data columns (total 5 columns):\n",
      " #   Column            Dtype \n",
      "---  ------            ----- \n",
      " 0   item_id           object\n",
      " 1   item_name         object\n",
      " 2   playtime_forever  int64 \n",
      " 3   playtime_2weeks   int64 \n",
      " 4   user_id           object\n",
      "dtypes: int64(2), object(3)\n",
      "memory usage: 196.6+ MB\n"
     ]
    }
   ],
   "source": [
    "df_items2.info()"
   ]
  },
  {
   "cell_type": "markdown",
   "metadata": {},
   "source": [
    "Se eliminan entradas duplicadas teniendo en cuenta como referencia dos columnas"
   ]
  },
  {
   "cell_type": "code",
   "execution_count": 10,
   "metadata": {},
   "outputs": [],
   "source": [
    "df_items2.drop_duplicates(subset=[\"item_name\",\"user_id\"], inplace=True)\n"
   ]
  },
  {
   "cell_type": "code",
   "execution_count": 11,
   "metadata": {},
   "outputs": [
    {
     "name": "stdout",
     "output_type": "stream",
     "text": [
      "<class 'pandas.core.frame.DataFrame'>\n",
      "Index: 5073726 entries, 0 to 5153208\n",
      "Data columns (total 5 columns):\n",
      " #   Column            Dtype \n",
      "---  ------            ----- \n",
      " 0   item_id           object\n",
      " 1   item_name         object\n",
      " 2   playtime_forever  int64 \n",
      " 3   playtime_2weeks   int64 \n",
      " 4   user_id           object\n",
      "dtypes: int64(2), object(3)\n",
      "memory usage: 232.3+ MB\n"
     ]
    }
   ],
   "source": [
    "df_items2.info()"
   ]
  },
  {
   "cell_type": "markdown",
   "metadata": {},
   "source": [
    "Se procede a guardar el dataset "
   ]
  },
  {
   "cell_type": "code",
   "execution_count": 13,
   "metadata": {},
   "outputs": [],
   "source": [
    "df_items2.to_csv(\".\\DataSets-Clean\\user_items_clean.csv\", index=False)"
   ]
  }
 ],
 "metadata": {
  "kernelspec": {
   "display_name": "Python 3",
   "language": "python",
   "name": "python3"
  },
  "language_info": {
   "codemirror_mode": {
    "name": "ipython",
    "version": 3
   },
   "file_extension": ".py",
   "mimetype": "text/x-python",
   "name": "python",
   "nbconvert_exporter": "python",
   "pygments_lexer": "ipython3",
   "version": "3.11.7"
  }
 },
 "nbformat": 4,
 "nbformat_minor": 2
}
