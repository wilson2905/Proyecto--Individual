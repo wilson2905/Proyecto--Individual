{
 "cells": [
  {
   "cell_type": "code",
   "execution_count": 1,
   "metadata": {},
   "outputs": [],
   "source": [
    "import pandas as pd\n",
    "import numpy as np\n"
   ]
  },
  {
   "cell_type": "code",
   "execution_count": 2,
   "metadata": {},
   "outputs": [],
   "source": [
    "df_reviews=pd.read_csv(r\"C:\\Users\\Usuario\\Desktop\\ProyectoIndividual\\reviews_clean.csv\",encoding=\"utf-8\")\n",
    "df_games=pd.read_csv(r\"C:\\Users\\Usuario\\Desktop\\ProyectoIndividual\\steam_games_clean.csv\", encoding=\"utf-8\")\n",
    "df_items=pd.read_csv(r\"C:\\Users\\Usuario\\Desktop\\ProyectoIndividual\\user_items_clean.csv\", encoding=\"utf-8\")\n"
   ]
  },
  {
   "cell_type": "code",
   "execution_count": null,
   "metadata": {},
   "outputs": [],
   "source": [
    "\"\"\"Debes crear las siguientes funciones para los endpoints que se consumirán en la API, recuerden que \n",
    "deben tener un decorador por cada una (@app.get(‘/’)).\n",
    "   \n",
    "    \n",
    "    def UserForGenre( genero : str ): Debe devolver el usuario que acumula más horas \n",
    "    jugadas para el género dado y una lista de la acumulación de horas jugadas por año.\n",
    "Ejemplo de retorno: {\"Usuario con más horas jugadas para Género X\" : us213ndjss09sdf,\n",
    " \"Horas jugadas\":[{Año: 2013, Horas: 203}, {Año: 2012, Horas: 100}, {Año: 2011, Horas: 23}]}\n",
    "    --user_items\n",
    "    \n",
    "    def UsersRecommend( año : int ): Devuelve el top 3 de juegos MÁS recomendados por usuarios \n",
    "    para el año dado. (reviews.recommend = True y comentarios positivos/neutrales)\n",
    "Ejemplo de retorno: [{\"Puesto 1\" : X}, {\"Puesto 2\" : Y},{\"Puesto 3\" : Z}]\n",
    "    --user_reviews\n",
    "    \n",
    "    def UsersWorstDeveloper( año : int ): Devuelve el top 3 de desarrolladoras con juegos MENOS \n",
    "    recomendados por usuarios para el año dado. (reviews.recommend = False y comentarios negativos)\n",
    "Ejemplo de retorno: [{\"Puesto 1\" : X}, {\"Puesto 2\" : Y},{\"Puesto 3\" : Z}]\n",
    "    --user_reviews\n",
    "    \n",
    "    def sentiment_analysis( empresa desarrolladora : str ): Según la empresa desarrolladora,\n",
    "     se devuelve un diccionario con el nombre de la desarrolladora como llave y una lista con\n",
    "      la cantidad total de registros de reseñas de usuarios que se encuentren categorizados con \n",
    "      un análisis de sentimiento como valor.\n",
    "Ejemplo de retorno: {'Valve' : [Negative = 182, Neutral = 120, Positive = 278]}\n",
    "    --user_reviews\"\"\""
   ]
  },
  {
   "cell_type": "code",
   "execution_count": 11,
   "metadata": {},
   "outputs": [
    {
     "name": "stdout",
     "output_type": "stream",
     "text": [
      "         item_id      item_name  playtime_forever  playtime_2weeks  \\\n",
      "45          1250  Killing Floor             10006                0   \n",
      "341         1250  Killing Floor               428                0   \n",
      "1174        1250  Killing Floor              1646                0   \n",
      "1544        1250  Killing Floor                 0                0   \n",
      "1710        1250  Killing Floor              3546                0   \n",
      "...          ...            ...               ...              ...   \n",
      "5061695     1250  Killing Floor               502                0   \n",
      "5062148     1250  Killing Floor              2910                0   \n",
      "5062203     1250  Killing Floor               268                0   \n",
      "5065453     1250  Killing Floor               263                0   \n",
      "5066597     1250  Killing Floor                 0                0   \n",
      "\n",
      "                   user_id  \n",
      "45       76561197970982479  \n",
      "341                js41637  \n",
      "1174             evcentric  \n",
      "1544            Riot-Punch  \n",
      "1710                 doctr  \n",
      "...                    ...  \n",
      "5061695      KillKenny2122  \n",
      "5062148           valleo92  \n",
      "5062203          HyperYooo  \n",
      "5065453           Kempy619  \n",
      "5066597       dannyflamite  \n",
      "\n",
      "[14046 rows x 5 columns]\n"
     ]
    }
   ],
   "source": [
    "filas_filtradas = df_items[df_items[\"item_id\"] == 1250]\n",
    "\n",
    "# Mostrar las filas filtradas\n",
    "print(filas_filtradas)"
   ]
  },
  {
   "cell_type": "code",
   "execution_count": 8,
   "metadata": {},
   "outputs": [
    {
     "data": {
      "text/html": [
       "<div>\n",
       "<style scoped>\n",
       "    .dataframe tbody tr th:only-of-type {\n",
       "        vertical-align: middle;\n",
       "    }\n",
       "\n",
       "    .dataframe tbody tr th {\n",
       "        vertical-align: top;\n",
       "    }\n",
       "\n",
       "    .dataframe thead th {\n",
       "        text-align: right;\n",
       "    }\n",
       "</style>\n",
       "<table border=\"1\" class=\"dataframe\">\n",
       "  <thead>\n",
       "    <tr style=\"text-align: right;\">\n",
       "      <th></th>\n",
       "      <th>item_id</th>\n",
       "      <th>recommend</th>\n",
       "      <th>user_id</th>\n",
       "      <th>sentiment_score</th>\n",
       "      <th>posted_year</th>\n",
       "    </tr>\n",
       "  </thead>\n",
       "  <tbody>\n",
       "    <tr>\n",
       "      <th>0</th>\n",
       "      <td>1250</td>\n",
       "      <td>True</td>\n",
       "      <td>76561197970982479</td>\n",
       "      <td>2</td>\n",
       "      <td>2011</td>\n",
       "    </tr>\n",
       "    <tr>\n",
       "      <th>1</th>\n",
       "      <td>22200</td>\n",
       "      <td>True</td>\n",
       "      <td>76561197970982479</td>\n",
       "      <td>2</td>\n",
       "      <td>2011</td>\n",
       "    </tr>\n",
       "    <tr>\n",
       "      <th>2</th>\n",
       "      <td>43110</td>\n",
       "      <td>True</td>\n",
       "      <td>76561197970982479</td>\n",
       "      <td>2</td>\n",
       "      <td>2011</td>\n",
       "    </tr>\n",
       "    <tr>\n",
       "      <th>3</th>\n",
       "      <td>251610</td>\n",
       "      <td>True</td>\n",
       "      <td>js41637</td>\n",
       "      <td>2</td>\n",
       "      <td>2014</td>\n",
       "    </tr>\n",
       "    <tr>\n",
       "      <th>4</th>\n",
       "      <td>227300</td>\n",
       "      <td>True</td>\n",
       "      <td>js41637</td>\n",
       "      <td>2</td>\n",
       "      <td>2013</td>\n",
       "    </tr>\n",
       "  </tbody>\n",
       "</table>\n",
       "</div>"
      ],
      "text/plain": [
       "   item_id  recommend            user_id  sentiment_score  posted_year\n",
       "0     1250       True  76561197970982479                2         2011\n",
       "1    22200       True  76561197970982479                2         2011\n",
       "2    43110       True  76561197970982479                2         2011\n",
       "3   251610       True            js41637                2         2014\n",
       "4   227300       True            js41637                2         2013"
      ]
     },
     "execution_count": 8,
     "metadata": {},
     "output_type": "execute_result"
    }
   ],
   "source": [
    "df_reviews.head()"
   ]
  },
  {
   "cell_type": "code",
   "execution_count": 13,
   "metadata": {},
   "outputs": [
    {
     "name": "stdout",
     "output_type": "stream",
     "text": [
      "               title      id             developer  Action  Casual  Indie  \\\n",
      "29658  Killing Floor  1250.0  Tripwire Interactive       1       0      0   \n",
      "\n",
      "       Simulation  Strategy  Free to Play  RPG  ...  Animation &amp; Modeling  \\\n",
      "29658           0         0             0    0  ...                         0   \n",
      "\n",
      "       Video Production  Utilities  Web Publishing  Education  \\\n",
      "29658                 0          0               0          0   \n",
      "\n",
      "       Software Training  Design &amp; Illustration  Audio Production  \\\n",
      "29658                  0                          0                 0   \n",
      "\n",
      "       Photo Editing  Accounting  \n",
      "29658              0           0  \n",
      "\n",
      "[1 rows x 25 columns]\n"
     ]
    }
   ],
   "source": [
    "filas_filtradas2 = df_games[df_games[\"id\"] == 1250]\n",
    "\n",
    "# Mostrar las filas filtradas\n",
    "print(filas_filtradas2)"
   ]
  }
 ],
 "metadata": {
  "kernelspec": {
   "display_name": "Python 3",
   "language": "python",
   "name": "python3"
  },
  "language_info": {
   "codemirror_mode": {
    "name": "ipython",
    "version": 3
   },
   "file_extension": ".py",
   "mimetype": "text/x-python",
   "name": "python",
   "nbconvert_exporter": "python",
   "pygments_lexer": "ipython3",
   "version": "3.11.7"
  }
 },
 "nbformat": 4,
 "nbformat_minor": 2
}
